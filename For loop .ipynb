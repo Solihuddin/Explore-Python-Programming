{
 "cells": [
  {
   "cell_type": "code",
   "execution_count": 4,
   "metadata": {},
   "outputs": [
    {
     "name": "stdout",
     "output_type": "stream",
     "text": [
      "1 2 3 4 "
     ]
    }
   ],
   "source": [
    "t = (1, 2, 3 ,4 )\n",
    "for x in t:\n",
    "    print (x, end=' ')"
   ]
  },
  {
   "cell_type": "code",
   "execution_count": 2,
   "metadata": {},
   "outputs": [
    {
     "name": "stdout",
     "output_type": "stream",
     "text": [
      "Hello\n",
      "Hello\n",
      "Hello\n",
      "Hello\n"
     ]
    }
   ],
   "source": [
    "t = (1, 2, 3 ,4 )\n",
    "for x in t:\n",
    "    print (\"Hello\")"
   ]
  },
  {
   "cell_type": "code",
   "execution_count": 12,
   "metadata": {},
   "outputs": [
    {
     "data": {
      "text/plain": [
       "[10, 20, 30, 40, 50, 60, 70, 80, 90, 100]"
      ]
     },
     "execution_count": 12,
     "metadata": {},
     "output_type": "execute_result"
    }
   ],
   "source": [
    "A= [10, 20, 30, 40, 50, 60, 70, 80, 90, 100]\n",
    "A"
   ]
  },
  {
   "cell_type": "code",
   "execution_count": 13,
   "metadata": {},
   "outputs": [
    {
     "name": "stdout",
     "output_type": "stream",
     "text": [
      "Hai\n",
      "Hai\n",
      "Hai\n",
      "Hai\n",
      "Hai\n",
      "Hai\n",
      "Hai\n",
      "Hai\n",
      "Hai\n",
      "Hai\n"
     ]
    }
   ],
   "source": [
    "for c in A:\n",
    "    print(\"Hai\")"
   ]
  },
  {
   "cell_type": "code",
   "execution_count": 15,
   "metadata": {},
   "outputs": [
    {
     "name": "stdout",
     "output_type": "stream",
     "text": [
      "10 20 30 40 50 60 70 80 90 100 "
     ]
    }
   ],
   "source": [
    "for c in A:\n",
    "    print(c, end=' ')"
   ]
  },
  {
   "cell_type": "code",
   "execution_count": 16,
   "metadata": {},
   "outputs": [],
   "source": [
    "dict = { \"john\":80, \"ali\":33, \"abu\":77, \"S\":99 }"
   ]
  },
  {
   "cell_type": "code",
   "execution_count": 18,
   "metadata": {},
   "outputs": [
    {
     "name": "stdout",
     "output_type": "stream",
     "text": [
      "john 80\n",
      "ali 33\n",
      "abu 77\n",
      "S 99\n"
     ]
    }
   ],
   "source": [
    "for a in dict:\n",
    "    print (a, dict[a]) # a = name , dict[] for value assign for name"
   ]
  },
  {
   "cell_type": "code",
   "execution_count": 19,
   "metadata": {},
   "outputs": [
    {
     "name": "stdout",
     "output_type": "stream",
     "text": [
      "hello world"
     ]
    }
   ],
   "source": [
    "s = \"hello world\"\n",
    "\n",
    "for k in s:\n",
    "    print(k, end=\"\") # can used \"\" for end= ; same function as ''"
   ]
  },
  {
   "cell_type": "code",
   "execution_count": 23,
   "metadata": {},
   "outputs": [
    {
     "name": "stdout",
     "output_type": "stream",
     "text": [
      "hhh\n",
      "eee\n",
      "lll\n",
      "lll\n",
      "ooo\n",
      "www\n",
      "ooo\n",
      "rrr\n",
      "lll\n",
      "ddd\n"
     ]
    }
   ],
   "source": [
    "s = \"hello world\"\n",
    "\n",
    "for k in s:\n",
    "    if k!=\" \": #skipped for 'space' value \n",
    "        print(k*3)"
   ]
  },
  {
   "cell_type": "code",
   "execution_count": null,
   "metadata": {},
   "outputs": [],
   "source": []
  }
 ],
 "metadata": {
  "kernelspec": {
   "display_name": "Python 3",
   "language": "python",
   "name": "python3"
  },
  "language_info": {
   "codemirror_mode": {
    "name": "ipython",
    "version": 3
   },
   "file_extension": ".py",
   "mimetype": "text/x-python",
   "name": "python",
   "nbconvert_exporter": "python",
   "pygments_lexer": "ipython3",
   "version": "3.7.4"
  }
 },
 "nbformat": 4,
 "nbformat_minor": 2
}
